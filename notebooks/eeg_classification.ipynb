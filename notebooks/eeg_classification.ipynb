{
 "cells": [
  {
   "cell_type": "code",
   "execution_count": null,
   "id": "a8f1a31c",
   "metadata": {
    "vscode": {
     "languageId": "plaintext"
    }
   },
   "outputs": [],
   "source": [
    "!pip install ucimlrepo\n",
    "\n",
    "from src.preprocessing import load_data, split_data\n",
    "from src.train_model import train_model, evaluate_model, save_model\n",
    "\n",
    "# load data\n",
    "X, y = load_data()\n",
    "\n",
    "# learning\n",
    "X_train, X_test, y_train, y_test = split_data(X, y)\n",
    "\n",
    "# Model learning\n",
    "model = train_model(X_train, y_train)\n",
    "\n",
    "# evaluation\n",
    "evaluate_model(model, X_test, y_test)\n",
    "\n",
    "# save\n",
    "save_model(model)\n"
   ]
  }
 ],
 "metadata": {
  "language_info": {
   "name": "python"
  }
 },
 "nbformat": 4,
 "nbformat_minor": 5
}
